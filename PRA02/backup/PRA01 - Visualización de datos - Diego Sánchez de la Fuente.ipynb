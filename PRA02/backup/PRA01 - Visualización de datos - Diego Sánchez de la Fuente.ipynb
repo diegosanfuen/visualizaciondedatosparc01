{
 "cells": [
  {
   "cell_type": "markdown",
   "id": "e7189d0b",
   "metadata": {
    "tags": [
     "hide_code"
    ]
   },
   "source": [
    "<div style=\"width: 100%; clear: both;\">\n",
    "<div style=\"float: left; width: 20%;\">\n",
    "<img src=\"https://www.uoc.edu/portal/_resources/common/imatges/sala_de_premsa/noticies/2016/202-nova-marca-uoc.jpg_170798054.jpg\", align=\"left\">\n",
    "</div>\n",
    "<div style=\"float: right; width: 80%;\">\n",
    "<p style=\"margin: 0; padding-top: 22px; text-align:right;\">Visualización de datos · PRA1</p>\n",
    "<p style=\"margin: 0; text-align:right;\">2023-1 · Máster universitario en Ciencia de datos (Data science)</p>\n",
    "<p style=\"margin: 0; text-align:right; padding-button: 100px;\">Estudios de Informática, Multimedia y Telecomunicación</p>\n",
    "</div>\n",
    "</div>\n",
    "<div style=\"width:100%;\">&nbsp;</div>\n",
    "\n",
    "\n",
    "# PRA 1: Visualización de Datos Selección del Conjunto de datos\n",
    "\n",
    "**Autor: Diego Sánchez de la Fuente**\n",
    "\n",
    "En la presente práctica se selecciona y analiza un conjunto de datos (Análisis exploratorio EDA) con el fin de ser incluido en la Práctica 02 de las asignatura: Visualización de datos."
   ]
  },
  {
   "cell_type": "markdown",
   "id": "03ce2214",
   "metadata": {},
   "source": [
    "Esta actividad, primera parte de la práctica final, consiste en la selección por parte del estudiante de un conjunto de datos de su interés que será usado en el proyecto de creación de la visualización de datos, de acuerdo con unos criterios establecidos. Básicamente, la temática es libre, pero se valorarán los aspectos siguientes:\n",
    "\n",
    "1. [10%] Justificad  brevemente vuestra selección, sea por motivos personales o profesionales.\n",
    "\n",
    "2. [10%] La relevancia del conjunto de datos en su contexto. ¿Son datos actuales? ¿Tratan un tema importante por algún colectivo concreto? ¿Se ha tenido en cuenta la perspectiva de género? \n",
    "\n",
    "3. [25%] La complejidad (medida, variables disponibles, tipos de datos, etc.). Debe tener del orden de miles de registros mínimo. Y debe tener un mínimo del orden de decenas de variables . ¿Combina datos categóricos y cuantitativos? ¿Incluye otros tipos de datos? Evita los conjuntos excesivamente simples.\n",
    "\n",
    "4. [25%] La originalidad. Se valora no repetir los conjuntos de datos clásicos. Podéis combinar o mejorar conjunto de datos existentes. ¿Hay otras visualizaciones basadas en este conjunto de datos? ¿Es una evolución o actualización de un conjunto anterior? ¿Habéis enriquecido un conjunto de datos ya existente? \n",
    "\n",
    "5. [30%] Las cuestiones que responderéis con la visualización de datos, ¿Tienen en cuenta los puntos anteriores? ¿Han sido planteadas en otras visualizaciones u otros proyectos? ¿Son adecuadas para el conjunto de datos elegido? \n",
    "\n",
    "Debéis entregar un documento PDF que contenga los puntos mencionados anteriormente.\n",
    "\n",
    "NOTA: Si se considera que esta parte no se ha resuelto de forma adecuada, el profesor os puede proponer otro conjunto de datos. Una C+ en esta actividad es un indicador de que podréis tener problemas después en la hora de crear la visualización de datos en la segunda parte de la práctica. Si obtenéis una A o una B podéis considerar que vuestra propuesta de datos ha sido aceptada para utilizarla a la segunda parte de la práctica."
   ]
  },
  {
   "cell_type": "markdown",
   "id": "aa22ba83",
   "metadata": {},
   "source": [
    "## Rubrica:\n",
    "**Yo Diego Sánchez de la Fuente, declaro que todo lo contendio en esta práctica es original y no está copiado de otras fuentes**"
   ]
  },
  {
   "cell_type": "markdown",
   "id": "d0d037b4",
   "metadata": {
    "tags": [
     "hide_code"
    ]
   },
   "source": [
    "<h2>Conjunto de datos seleccionado:</h2>\n",
    "\n",
    "El conjunto seleccionado para la práctica está ubicado en la siguiente dirección:\n",
    "\n",
    "**Cardiovascular Disease Dataset**\n",
    "\n",
    "https://www.kaggle.com/datasets/alphiree/cardiovascular-diseases-risk-prediction-dataset\n",
    "\n",
    "\n",
    "License\n",
    "CC0: Public Domain\n",
    "\n",
    "Expected update frequency\n",
    "Annually\n",
    "\n",
    "<h3>Sobre el dataset:</h3>\n",
    "\n",
    "Conjunto de datos BRFSS\n",
    "El Sistema de Vigilancia de Factores de Riesgo del Comportamiento (BRFSS) es el principal sistema de encuestas telefónicas relacionadas con la salud de EE.UU. que recopila datos estatales sobre los residentes de dicho pais, sobre sus conductas de riesgo relacionadas con la salud, condiciones de salud crónicas y uso de servicios preventivos.\n",
    "\n",
    "Url: https://www.cdc.gov/brfss/index.html"
   ]
  },
  {
   "cell_type": "code",
   "execution_count": 2,
   "id": "17b539d4",
   "metadata": {
    "tags": [
     "hide_code"
    ]
   },
   "outputs": [],
   "source": [
    "import numpy as np\n",
    "import pandas as pd\n",
    "from zipfile import ZipFile\n",
    "from matplotlib import pyplot as plt\n",
    "import seaborn as sbn\n",
    "from tabulate import tabulate"
   ]
  },
  {
   "cell_type": "code",
   "execution_count": 3,
   "id": "7e1f6fc8",
   "metadata": {
    "tags": [
     "hide_code"
    ]
   },
   "outputs": [],
   "source": [
    "# leer el dataset comprimido\n",
    "filename = 'datos/CVD_cleaned.csv.zip'"
   ]
  },
  {
   "cell_type": "code",
   "execution_count": 4,
   "id": "df5ec698",
   "metadata": {
    "tags": [
     "hide_code"
    ]
   },
   "outputs": [
    {
     "name": "stdout",
     "output_type": "stream",
     "text": [
      "['CVD_cleaned.csv']\n"
     ]
    }
   ],
   "source": [
    "with ZipFile(filename, 'r') as f:\n",
    "    names = f.namelist()\n",
    "print(names)"
   ]
  },
  {
   "cell_type": "code",
   "execution_count": 5,
   "id": "01e1dbe6",
   "metadata": {
    "tags": [
     "hide_code"
    ]
   },
   "outputs": [],
   "source": [
    "zf = ZipFile(filename, 'r')\n",
    "df_data = pd.read_csv( zf.open('CVD_cleaned.csv'), encoding='latin_1')"
   ]
  },
  {
   "cell_type": "markdown",
   "id": "2da113e0",
   "metadata": {
    "tags": [
     "hide_code"
    ]
   },
   "source": [
    "## Explicación del dstaset:"
   ]
  },
  {
   "cell_type": "markdown",
   "id": "a98f2c95",
   "metadata": {
    "tags": [
     "hide_code"
    ]
   },
   "source": [
    "El dataset comprende las respuestas a las siguientes preguntas:\n",
    "\n",
    "- General_Health: ¿Diría que usted tiene un estado de salud ...?\n",
    "    - Valores:['Excellent' 'Fair' 'Good' 'Poor' 'Very Good']\n",
    "- Checkup: ¿Cuánto tiempo ha pasado aproximadamente desde la última vez que visitó a un médico para un chequeo de rutina?\n",
    "    - Valores: ['5 or more years ago' 'Never' 'Within the past 2 years' 'Within the past 5 years' 'Within the past year']\n",
    "- Exercise: ¿Hace usted ejercicio?\n",
    "    - Valores: True/False\n",
    "- Heart_Disease: ¿Padece usted algún trastorno del corazón?\n",
    "    - Valores: True/False\n",
    "- Skin Cancer: ¿Padece usted algún tipo de cancer de piel?\n",
    "    - Valores: True/False\n",
    "- Other_Cancer: ¿Padece usted algún tipo de cancer?\n",
    "    - Valores: True/False\n",
    "- Skin Cancer: ¿Padece usted algún tipo de trastorno depresivo?\n",
    "    - Valores: True/False\n",
    "- Diabetes: ¿Padece usted trastorno diabético?\n",
    "    - Valores:['No' 'No, pre-diabetes or borderline diabetes' 'Yes' 'Yes, but female told only during pregnancy']\n",
    "- Arthritis: ¿Padece usted trastorno relaccionado con la artritis?\n",
    "    - Valores: True/False\n",
    "- Sex: ¿Qué sexo tiene?\n",
    "    - Valores: Female/Male\n",
    "- Age_Category: ¿A qué rango de edad pertenece?\n",
    "    - Valores: ['18-24' '25-29' '30-34' '35-39' '40-44' '45-49' '50-54' '55-59' '60-64' '65-69' '70-74' '75-79' '80+']\n",
    "- Height_(cm): ¿Cuanto mide en cntímetros?\n",
    "    - Valores: \n",
    "- BMI: Indice de masa muscular = Peso(Kg)/Altura(cm)^2\n",
    "    - Valores: True/False\n",
    "- Smoking_History: ¿Es usted fumador/a?\n",
    "    - Valores: True/False\n",
    "- Alcohol_Consumption: ¿Consume de manera habitual alcohol?\n",
    "    - Valores: True/False\n",
    "- Fruit_Consumption: ¿Consume fruta de manera habitual?\n",
    "    - Valores: True/False\n",
    "- Green_Vegetables_Consumption: ¿Consume vegetales verdes de manera habitual?\n",
    "    - Valores: True/False\n",
    "- FriedPotato_Consumption: ¿Consume patata frita de manera habitual?\n",
    "    - Valores: True/False"
   ]
  },
  {
   "cell_type": "markdown",
   "id": "926c5907",
   "metadata": {
    "tags": [
     "hide_code"
    ]
   },
   "source": [
    "## Análisis exploratorio del dataset"
   ]
  },
  {
   "cell_type": "code",
   "execution_count": 7,
   "id": "064284bb",
   "metadata": {},
   "outputs": [
    {
     "name": "stdout",
     "output_type": "stream",
     "text": [
      "    General_Health    Checkup                  Exercise    Heart_Disease    Skin_Cancer    Other_Cancer    Depression    Diabetes    Arthritis    Sex     Age_Category      Height_(cm)    Weight_(kg)    BMI  Smoking_History      Alcohol_Consumption    Fruit_Consumption    Green_Vegetables_Consumption    FriedPotato_Consumption\n",
      "--  ----------------  -----------------------  ----------  ---------------  -------------  --------------  ------------  ----------  -----------  ------  --------------  -------------  -------------  -----  -----------------  ---------------------  -------------------  ------------------------------  -------------------------\n",
      " 0  Poor              Within the past 2 years  No          No               No             No              No            No          Yes          Female  70-74                     150          32.66  14.54  Yes                                    0                   30                              16                         12\n",
      " 1  Very Good         Within the past year     No          Yes              No             No              No            Yes         No           Female  70-74                     165          77.11  28.29  No                                     0                   30                               0                          4\n",
      " 2  Very Good         Within the past year     Yes         No               No             No              No            Yes         No           Female  60-64                     163          88.45  33.47  No                                     4                   12                               3                         16\n",
      " 3  Poor              Within the past year     Yes         Yes              No             No              No            Yes         No           Male    75-79                     180          93.44  28.73  No                                     0                   30                              30                          8\n",
      " 4  Good              Within the past year     No          No               No             No              No            No          No           Male    80+                       191          88.45  24.37  Yes                                    0                    8                               4                          0\n"
     ]
    }
   ],
   "source": [
    "print(tabulate(df_data.head(), headers='keys', tablefmt='simple'))"
   ]
  },
  {
   "cell_type": "markdown",
   "id": "93982cbe",
   "metadata": {
    "tags": [
     "hide_code"
    ]
   },
   "source": [
    "Forma del dataset:"
   ]
  },
  {
   "cell_type": "code",
   "execution_count": 22,
   "id": "a3580c8a",
   "metadata": {
    "tags": [
     "hide_code"
    ]
   },
   "outputs": [
    {
     "name": "stdout",
     "output_type": "stream",
     "text": [
      "Forma del dataset: (308854, 19)\n"
     ]
    }
   ],
   "source": [
    "print(f'Forma del dataset: {df_data.shape}')"
   ]
  },
  {
   "cell_type": "code",
   "execution_count": 9,
   "id": "7c54b7e6",
   "metadata": {
    "tags": [
     "hide_code"
    ]
   },
   "outputs": [
    {
     "name": "stdout",
     "output_type": "stream",
     "text": [
      "         Height_(cm)    Weight_(kg)           BMI    Alcohol_Consumption    Fruit_Consumption    Green_Vegetables_Consumption    FriedPotato_Consumption\n",
      "-----  -------------  -------------  ------------  ---------------------  -------------------  ------------------------------  -------------------------\n",
      "count     308854        308854       308854                 308854                308854                          308854                    308854\n",
      "mean         170.615        83.5887      28.6262                 5.09637              29.8352                         15.1104                    6.29662\n",
      "std           10.658        21.3432       6.52232                8.19976              24.8757                         14.9262                    8.58295\n",
      "min           91            24.95        12.02                   0                     0                               0                         0\n",
      "25%          163            68.04        24.21                   0                    12                               4                         2\n",
      "50%          170            81.65        27.44                   1                    30                              12                         4\n",
      "75%          178            95.25        31.85                   6                    30                              20                         8\n",
      "max          241           293.02        99.33                  30                   120                             128                       128\n"
     ]
    }
   ],
   "source": [
    "# df_data.describe(include='all')\n",
    "print(tabulate(df_data.describe(),\n",
    "               headers='keys', tablefmt='simple'))"
   ]
  },
  {
   "cell_type": "markdown",
   "id": "77948007",
   "metadata": {
    "tags": [
     "hide_code"
    ]
   },
   "source": [
    "Exploramos los valores unicos de los campos categoricos:"
   ]
  },
  {
   "cell_type": "code",
   "execution_count": 8,
   "id": "56d8f2e5",
   "metadata": {
    "tags": [
     "hide_code"
    ]
   },
   "outputs": [
    {
     "name": "stdout",
     "output_type": "stream",
     "text": [
      "Campo: General_Health Tiene valores -> ['Excellent' 'Fair' 'Good' 'Poor' 'Very Good']\n",
      "Campo: Checkup Tiene valores -> ['5 or more years ago' 'Never' 'Within the past 2 years'\n",
      " 'Within the past 5 years' 'Within the past year']\n",
      "Campo: Exercise Tiene valores -> ['No' 'Yes']\n",
      "Campo: Heart_Disease Tiene valores -> ['No' 'Yes']\n",
      "Campo: Skin_Cancer Tiene valores -> ['No' 'Yes']\n",
      "Campo: Other_Cancer Tiene valores -> ['No' 'Yes']\n",
      "Campo: Depression Tiene valores -> ['No' 'Yes']\n",
      "Campo: Diabetes Tiene valores -> ['No' 'No, pre-diabetes or borderline diabetes' 'Yes'\n",
      " 'Yes, but female told only during pregnancy']\n",
      "Campo: Arthritis Tiene valores -> ['No' 'Yes']\n",
      "Campo: Sex Tiene valores -> ['Female' 'Male']\n",
      "Campo: Age_Category Tiene valores -> ['18-24' '25-29' '30-34' '35-39' '40-44' '45-49' '50-54' '55-59' '60-64'\n",
      " '65-69' '70-74' '75-79' '80+']\n",
      "Campo: Smoking_History Tiene valores -> ['No' 'Yes']\n"
     ]
    }
   ],
   "source": [
    "for campo in df_data.columns.values:\n",
    "    if df_data[campo].dtype == 'object':\n",
    "        print(f'Campo: {campo} Tiene valores -> {np.unique(df_data[campo])}')"
   ]
  },
  {
   "cell_type": "markdown",
   "id": "0915c18d",
   "metadata": {},
   "source": [
    "## Respuesta a las cuestiones de la práctica:"
   ]
  },
  {
   "cell_type": "markdown",
   "id": "eb1ebbbe",
   "metadata": {},
   "source": [
    "**1. Justificad brevemente vuestra selección, sea por motivos personales o profesionales.**"
   ]
  },
  {
   "cell_type": "markdown",
   "id": "105c27e5",
   "metadata": {},
   "source": [
    "El conjunto de datos refleja una serie de indicadores sobre la salud de los encuestados, junto con la percepción por parte del encuestado de su estado de salud.\n",
    "\n",
    "A título personal siempre me ha interesado los temas relacionados con la salud de las personas, de hecho me gustaría realizar modelos de clasificación y predicción de enfermedades, es una temática que no tiene que ver con mi trabajo."
   ]
  },
  {
   "cell_type": "markdown",
   "id": "f8262f2d",
   "metadata": {},
   "source": [
    "**2. La relevancia del conjunto de datos en su contexto. ¿Son datos actuales? ¿Tratan un tema importante por algún colectivo concreto? ¿Se ha tenido en cuenta la perspectiva de género?**"
   ]
  },
  {
   "cell_type": "markdown",
   "id": "ac21fec4",
   "metadata": {},
   "source": [
    "En el contexto de la salud pública la recogida de encuestas y observación de los resultados para obtener indicadores de salud y bienestar es importante, estos indicadores pueden utilizarse para realizar proyecciones, o incluso con ayuda de otros datos (enriquecimiento) realizar modelos predictivos/prescriptivos.\n",
    "\n",
    "Los datos son actuales, están recogidos durante el último año, las actualizaciones son periódicas de manera anual.\n",
    "\n",
    "El tema de la salud es transversal a todos los colectivos, si bien es interesante saber como determinadas enfermedades afectan más a un determinado sexo o a una determinada franja de edad, este dataset no recoge géneros, ni variables protegidas como la orientación sexual, ideología, afinidad religiosa, etc.\n",
    "\n",
    "En un principio el conjunto de datos no da ninguna indicación de que se haya tenido en cuenta la perspectiva de género, lo que indica que sería necesario si se quiere construir un modelo matemático aplicar medidas para tenerlo en cuenta como las antisesgo."
   ]
  },
  {
   "cell_type": "markdown",
   "id": "b33afa4c",
   "metadata": {},
   "source": [
    "**2. La complejidad (medida, variables disponibles, tipos de datos, etc.). Debe tener del orden de miles de registros mínimo. Y debe tener un mínimo del orden de decenas de variables . ¿Combina datos categóricos y cuantitativos? ¿Incluye otros tipos de datos? Evita los conjuntos excesivamente simples.**"
   ]
  },
  {
   "cell_type": "markdown",
   "id": "96b1c029",
   "metadata": {},
   "source": [
    "El conjunto de datos dispone de más de 300 observaciones (lo que indica que tendremos que realizar un muestreo estadistico para poderlos analizar), lo que ya conlleva una complejidad adicional.\n",
    "\n",
    "El conjunto de datos también cuenta con 19 variables, en las que podemos observar variables de tipo binarias, numéricas y categóricas, lo cual se indica en la práctica que es condición necesaria para poder aprobar este conjunto de datos.\n",
    "\n",
    "El conjunto de datos a priori no parece ser trivial."
   ]
  },
  {
   "cell_type": "markdown",
   "id": "939dc03f",
   "metadata": {},
   "source": [
    "**4. La originalidad. Se valora no repetir los conjuntos de datos clásicos. Podéis combinar o mejorar conjunto de datos existentes. ¿Hay otras visualizaciones basadas en este conjunto de datos? ¿Es una evolución o actualización de un conjunto anterior? ¿Habéis enriquecido un conjunto de datos ya existente?**"
   ]
  },
  {
   "cell_type": "markdown",
   "id": "19ef73ba",
   "metadata": {},
   "source": [
    "A priori este dataset no forma parte del conjunto denominado clásico como:\n",
    "\n",
    "- Titanic\n",
    "- Iris\n",
    "- Transtornos cardiacos\n",
    "- Crimenes de NY\n",
    "- Fraude bancario\n",
    "\n",
    "En un principio no se han localizado visualizaciones relacionadas con estos datos, ni forman parte de otro conjunto de datos, pero si que se podrían enriquecer con otros conjuntos de datos, como por ejemplo conjuntos que relacionen alguna de las enfermedades que aparecen (diabetis, cancer de piel, trastornos del corazon, otros canceres, ....) con los índices BMI y otras variables médicas, o conjuntos que relacionen el consumo de determinados alimentos y las variables médicas asociadas a enfermedades.\n",
    "\n",
    "El conjunto de datos ha sido obtenido de la manera que se presenta en la práctica, no ha sido enriquecido."
   ]
  },
  {
   "cell_type": "markdown",
   "id": "4752d9d2",
   "metadata": {},
   "source": [
    "**5. Las cuestiones que responderéis con la visualización de datos, ¿Tienen en cuenta los puntos anteriores? ¿Han sido planteadas en otras visualizaciones u otros proyectos? ¿Son adecuadas para el conjunto de datos elegido?**"
   ]
  },
  {
   "cell_type": "markdown",
   "id": "407483a5",
   "metadata": {},
   "source": [
    "A priori este conjunto de datos es compatible con todos los aspectos de visualización indicados en la guía, quizás haya que hacer un muestreo estadistico antes de proceder a realizar el trabajo de visualización, ya que el dataset contiene muchas observaciones.\n",
    "\n",
    "Por otro lado la fuente de datos es veraz, CDC - BRFSS (Centro de control y prevención de enfermedades de EE.UU).\n",
    "\n",
    "A priori este conjunto de datos NO ha sido planteado en ningún otro proyecto de visualización de datos."
   ]
  }
 ],
 "metadata": {
  "kernelspec": {
   "display_name": "Entorno de Trabajo",
   "language": "python",
   "name": "entorno_trabajo"
  },
  "language_info": {
   "codemirror_mode": {
    "name": "ipython",
    "version": 3
   },
   "file_extension": ".py",
   "mimetype": "text/x-python",
   "name": "python",
   "nbconvert_exporter": "python",
   "pygments_lexer": "ipython3",
   "version": "3.11.5"
  }
 },
 "nbformat": 4,
 "nbformat_minor": 5
}
